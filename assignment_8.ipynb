{
  "nbformat": 4,
  "nbformat_minor": 0,
  "metadata": {
    "colab": {
      "provenance": []
    },
    "kernelspec": {
      "name": "python3",
      "display_name": "Python 3"
    },
    "language_info": {
      "name": "python"
    }
  },
  "cells": [
    {
      "cell_type": "markdown",
      "source": [
        "Question 1:  Discuss the scenarios where multithreading is preferable to multiprocessing and scenarios where\n",
        "multiprocessing is a better choice."
      ],
      "metadata": {
        "id": "GuhOa8f3haid"
      }
    },
    {
      "cell_type": "markdown",
      "source": [
        "Ans 1: Multithreading\n",
        "\n",
        "Ideal for I/O-bound tasks: When your application spends significant time waiting for input/output operations (e.g., network requests, file I/O), multithreading can be highly effective. This is because while one thread is waiting, another can execute, maximizing CPU utilization.\n",
        "\n",
        "Lower overhead: Creating and managing threads is generally less resource-intensive than creating and managing processes.\n",
        "\n",
        "Shared memory: Threads within the same process share the same memory space, making communication and data sharing more efficient.\n",
        "\n",
        "Multiprocessing\n",
        "\n",
        "Ideal for CPU-bound tasks: When your application involves intensive computations that can be divided into independent tasks, multiprocessing can significantly improve performance by utilizing multiple CPU cores.\n",
        "\n",
        "True parallelism: By creating separate processes, multiprocessing can overcome the limitations imposed by the GIL, allowing for true parallel execution.\n",
        "\n",
        "Better for resource-intensive tasks: If your tasks require large amounts of memory or other resources, multiprocessing can help distribute the load across multiple processes.\n",
        "\n",
        "\n"
      ],
      "metadata": {
        "id": "v08D_crsiOPc"
      }
    },
    {
      "cell_type": "markdown",
      "source": [
        "Question 2: Describe what a process pool is and how it helps in managing multiple processes efficiently.\n"
      ],
      "metadata": {
        "id": "9LotLXCoiv-X"
      }
    },
    {
      "cell_type": "markdown",
      "source": [
        "Ans 2: Process Pool: A Powerful Tool for Parallel Processing\n",
        "\n",
        "A process pool is a programming construct that manages a fixed number of worker processes. It serves as a convenient way to distribute tasks across multiple processes, enabling parallel execution and improving performance.\n",
        "\n",
        "How It Works:\n",
        "\n",
        "Process Creation: When a process pool is initialized, a specified number of worker processes are created.\n",
        "Task Submission: Tasks, typically functions with arguments, are submitted to the pool.\n",
        "Task Distribution: The pool distributes these tasks to the available worker processes.\n",
        "Task Execution: Each worker process executes the assigned tasks independently"
      ],
      "metadata": {
        "id": "5Q4ht_A_i3xp"
      }
    },
    {
      "cell_type": "markdown",
      "source": [
        "Question 3:Explain what multiprocessing is and why it is used in Python programs.\n"
      ],
      "metadata": {
        "id": "YGDLSSjbjFYO"
      }
    },
    {
      "cell_type": "markdown",
      "source": [
        "Ans 3: Multiprocessing is a technique in Python that allows you to execute multiple processes concurrently, each running independently. This is particularly useful for CPU-bound tasks, where the performance bottleneck is primarily due to the CPU's processing power.\n",
        "\n",
        "\n",
        "Why Use Multiprocessing?\n",
        "\n",
        "Leveraging Multiple Cores: Modern computers often have multiple cores or processors. Multiprocessing allows you to take advantage of this hardware parallelism, significantly speeding up computations.\n",
        "\n",
        "Overcoming the GIL: The Global Interpreter Lock (GIL) in Python limits the execution of Python bytecode to a single thread at a time, even on multi-core systems. Multiprocessing bypasses this limitation, enabling true parallel execution."
      ],
      "metadata": {
        "id": "J5ECpfPdjRql"
      }
    },
    {
      "cell_type": "markdown",
      "source": [
        "Question 4:Write a Python program using multithreading where one thread adds numbers to a list, and another\n",
        "thread removes numbers from the list. Implement a mechanism to avoid race conditions using\n",
        "threading.Lock\n"
      ],
      "metadata": {
        "id": "yYPsXOQkjfXJ"
      }
    },
    {
      "cell_type": "code",
      "source": [
        "import threading\n",
        "import time\n",
        "\n",
        "def add_numbers(shared_list, lock):\n",
        "    for i in range(10):\n",
        "        with lock:\n",
        "            shared_list.append(i)\n",
        "        time.sleep(0.5)\n",
        "\n",
        "def remove_numbers(shared_list, lock):\n",
        "    for i in range(5):\n",
        "        with lock:\n",
        "            if shared_list:\n",
        "                shared_list.pop()\n",
        "        time.sleep(0.5)\n",
        "\n",
        "if __name__ == \"__main__\":\n",
        "    shared_list = []\n",
        "    lock = threading.Lock()\n",
        "\n",
        "    t1 = threading.Thread(target=add_numbers, args=(shared_list, lock))\n",
        "    t2 = threading.Thread(target=remove_numbers, args=(shared_list, lock))\n",
        "\n",
        "    t1.start()\n",
        "    t2.start()\n",
        "\n",
        "    t1.join()\n",
        "    t2.join()\n",
        "\n",
        "    print(shared_list)"
      ],
      "metadata": {
        "colab": {
          "base_uri": "https://localhost:8080/"
        },
        "id": "LLvdt9yMj2-x",
        "outputId": "e0e9d23f-8a11-457d-f8df-4e18c2b595f6"
      },
      "execution_count": 1,
      "outputs": [
        {
          "output_type": "stream",
          "name": "stdout",
          "text": [
            "[5, 6, 7, 8, 9]\n"
          ]
        }
      ]
    },
    {
      "cell_type": "markdown",
      "source": [
        "Question 5: . Describe the methods and tools available in Python for safely sharing data between threads and\n",
        "processes."
      ],
      "metadata": {
        "id": "bKj04Fahj_vz"
      }
    },
    {
      "cell_type": "markdown",
      "source": [
        "Ans 5: For Threads:\n",
        "\n",
        "Shared Memory:\n",
        "\n",
        "Simple Sharing: Directly share mutable objects between threads. However, this requires careful synchronization to prevent data corruption.\n",
        "multiprocessing.Manager: Provides a higher-level interface for sharing data between processes and threads, including shared lists, dictionaries, and arrays.\n",
        "Thread-Safe Queues:\n",
        "\n",
        "queue.Queue: A thread-safe queue that can be used to pass data between threads. It's suitable for producer-consumer patterns.\n",
        "queue.LifoQueue: Similar to queue.Queue, but operates as a last-in-first-out (LIFO) queue.\n",
        "\n",
        "\n",
        "For Processes:\n",
        "\n",
        "Shared Memory:\n",
        "\n",
        "multiprocessing.Array: A shared array that can be accessed by multiple processes.\n",
        "multiprocessing.Value: A shared value that can be accessed by multiple processes.\n",
        "Queues:\n",
        "\n",
        "multiprocessing.Queue: A process-safe queue that can be used to pass data between processes.\n",
        "Pipes:\n",
        "\n",
        "multiprocessing.Pipe: A pair of connected pipes that can be used for bidirectional communication between processes."
      ],
      "metadata": {
        "id": "WOeaQPQbkIAt"
      }
    },
    {
      "cell_type": "markdown",
      "source": [
        "Question 6:  Discuss why it’s crucial to handle exceptions in concurrent programs and the techniques available for\n",
        "doing so."
      ],
      "metadata": {
        "id": "wOmtf9C5kXDe"
      }
    },
    {
      "cell_type": "markdown",
      "source": [
        "Ans 6: Handling exceptions in concurrent programs is crucial for several reasons:\n",
        "\n",
        "Graceful Degradation: When an exception occurs in one thread or process, it can potentially affect the entire program. By handling exceptions gracefully, you can prevent the program from crashing and ensure that other parts of the application continue to function.\n",
        "Error Recovery: Exception handling allows you to identify and address the root cause of errors, take corrective actions, and potentially recover from failed operations.\n",
        "Logging and Monitoring: By logging exceptions, you can track issues, analyze performance, and identify potential bottlenecks. This information is invaluable for debugging and optimization.\n",
        "\n",
        "\n",
        "Techniques for Handling Exceptions in Concurrent Programs:\n",
        "\n",
        "Try-Except Blocks:\n",
        "Use try-except blocks to catch and handle exceptions within individual threads or processes.\n",
        "Consider using finally blocks to ensure that certain actions, such as releasing resources, are performed regardless of whether an exception occurs.\n",
        "\n",
        "Global Exception Handlers:\n",
        "In some cases, you may want to define a global exception handler to catch exceptions that are not handled by individual threads or processes.\n",
        "Use caution when using global exception handlers, as they can mask underlying issues and make debugging more difficult.\n",
        "\n",
        "Logging:\n",
        "Log exceptions to a file or a centralized logging system to track errors and analyze their frequency and impact.\n",
        "Include relevant information in the log messages, such as timestamps, thread/process IDs, error messages, and stack traces.\n",
        "\n",
        "Error Propagation:\n",
        "Consider how exceptions should be propagated through the concurrent program."
      ],
      "metadata": {
        "id": "GARJz-J-kkuh"
      }
    },
    {
      "cell_type": "markdown",
      "source": [
        "Question 7:Create a program that uses a thread pool to calculate the factorial of numbers from 1 to 10 concurrently.\n",
        "Use concurrent.futures.ThreadPoolExecutor to manage the threads.\n",
        "\n",
        "\n"
      ],
      "metadata": {
        "id": "z8Rv7bfWkzjK"
      }
    },
    {
      "cell_type": "code",
      "source": [
        "import concurrent.futures\n",
        "import time\n",
        "\n",
        "def factorial(n):\n",
        "    if n == 0:\n",
        "        return 1\n",
        "    else:\n",
        "        return n * factorial(n - 1)\n",
        "\n",
        "def main():\n",
        "    with concurrent.futures.ThreadPoolExecutor() as executor:\n",
        "        futures = [executor.submit(factorial, i) for i in range(1, 11)]\n",
        "\n",
        "        for future in concurrent.futures.as_completed(futures):\n",
        "            result = future.result()\n",
        "            print(f\"The factorial of {future.args[0]} is {result}\")\n",
        "\n",
        "if __name__ == \"__main__\":\n",
        "    start_time = time.time()\n",
        "    main()\n",
        "    end_time = time.time()\n",
        "    print(f\"Total execution time: {end_time - start_time:.2f} seconds\")"
      ],
      "metadata": {
        "id": "Aq2HsU4IlOOO"
      },
      "execution_count": null,
      "outputs": []
    },
    {
      "cell_type": "markdown",
      "source": [
        "Question 8: Create a Python program that uses multiprocessing.Pool to compute the square of numbers from 1 to 10 in\n",
        "parallel. Measure the time taken to perform this computation using a pool of different sizes (e.g., 2, 4, 8\n",
        "processes)."
      ],
      "metadata": {
        "id": "jcUoN8GilUPr"
      }
    },
    {
      "cell_type": "code",
      "source": [
        "import multiprocessing\n",
        "import time\n",
        "\n",
        "def square(x):\n",
        "    return x * x\n",
        "\n",
        "def main():\n",
        "    num_processes = [2, 4, 8]\n",
        "\n",
        "    for num_proc in num_processes:\n",
        "        start_time = time.time()\n",
        "\n",
        "        with multiprocessing.Pool(num_proc) as pool:\n",
        "            results = pool.map(square, range(1, 11))\n",
        "\n",
        "        end_time = time.time()\n",
        "        print(f\"Time taken with {num_proc} processes: {end_time - start_time:.2f} seconds\")\n",
        "\n",
        "if __name__ == \"__main__\":\n",
        "    main()"
      ],
      "metadata": {
        "colab": {
          "base_uri": "https://localhost:8080/"
        },
        "id": "bpJpS9k1lbZJ",
        "outputId": "5a66520d-d1bc-4cf0-907b-03b54682ac33"
      },
      "execution_count": 4,
      "outputs": [
        {
          "output_type": "stream",
          "name": "stdout",
          "text": [
            "Time taken with 2 processes: 0.03 seconds\n",
            "Time taken with 4 processes: 0.06 seconds\n",
            "Time taken with 8 processes: 0.09 seconds\n"
          ]
        }
      ]
    },
    {
      "cell_type": "code",
      "source": [],
      "metadata": {
        "id": "GUH2s2XSlhJ2"
      },
      "execution_count": null,
      "outputs": []
    }
  ]
}